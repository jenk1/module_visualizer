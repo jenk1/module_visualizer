{
 "cells": [
  {
   "cell_type": "code",
   "execution_count": 1,
   "metadata": {},
   "outputs": [],
   "source": [
    "# Load the libraries\n",
    "import networkx as nx\n",
    "import matplotlib.pyplot as plt\n",
    "import matplotlib\n",
    "\n",
    "%matplotlib inline"
   ]
  },
  {
   "cell_type": "code",
   "execution_count": null,
   "metadata": {},
   "outputs": [],
   "source": [
    "class G_Builder():\n",
    "    \n",
    "    def __init__(self):\n",
    "        G = nx.Graph()\n",
    "    \n",
    "    def add(self,)"
   ]
  },
  {
   "cell_type": "code",
   "execution_count": null,
   "metadata": {},
   "outputs": [],
   "source": []
  },
  {
   "cell_type": "code",
   "execution_count": 2,
   "metadata": {},
   "outputs": [],
   "source": [
    "# Define the filename that we will be using\n",
    "filename = 'testerfile.py'"
   ]
  },
  {
   "cell_type": "code",
   "execution_count": 3,
   "metadata": {},
   "outputs": [],
   "source": [
    "with open(filename) as f:\n",
    "    content = f.readlines()"
   ]
  },
  {
   "cell_type": "code",
   "execution_count": 9,
   "metadata": {},
   "outputs": [],
   "source": [
    "values = []"
   ]
  },
  {
   "cell_type": "code",
   "execution_count": 10,
   "metadata": {},
   "outputs": [],
   "source": [
    "for line in content:\n",
    "    if(\"from\" in line or \"import\" in line):\n",
    "        line = line.replace('\\n', '')\n",
    "        line = line.replace()\n",
    "        values.append(line)"
   ]
  },
  {
   "cell_type": "code",
   "execution_count": 11,
   "metadata": {},
   "outputs": [
    {
     "data": {
      "text/plain": [
       "['import sys',\n",
       " 'from typing import List',\n",
       " 'from loguru import logger',\n",
       " 'from typing_extensions import Literal',\n",
       " 'from tiktok_bot.api import TikTokAPI',\n",
       " 'from tiktok_bot.models.category import Category, ListCategoriesRequest',\n",
       " 'from tiktok_bot.models.feed import ListFeedRequest',\n",
       " 'from tiktok_bot.models.feed_enums import FeedType, PullType',\n",
       " 'from tiktok_bot.models.post import Post',\n",
       " 'from tiktok_bot.models.search import ChallengeInfo',\n",
       " 'from tiktok_bot.models.user import CommonUserDetails, UserProfile']"
      ]
     },
     "execution_count": 11,
     "metadata": {},
     "output_type": "execute_result"
    }
   ],
   "source": [
    "values"
   ]
  },
  {
   "cell_type": "markdown",
   "metadata": {},
   "source": [
    "<code>if(values == []):\n",
    "    G.add_node(filename)\n",
    "</code>"
   ]
  },
  {
   "cell_type": "code",
   "execution_count": 32,
   "metadata": {},
   "outputs": [],
   "source": [
    "a = \"import sys as r\"\n",
    "b = \"import happy\""
   ]
  },
  {
   "cell_type": "code",
   "execution_count": 33,
   "metadata": {},
   "outputs": [],
   "source": [
    "a = a.split('as')[0]"
   ]
  },
  {
   "cell_type": "code",
   "execution_count": 34,
   "metadata": {},
   "outputs": [
    {
     "data": {
      "text/plain": [
       "'import sys '"
      ]
     },
     "execution_count": 34,
     "metadata": {},
     "output_type": "execute_result"
    }
   ],
   "source": [
    "a"
   ]
  },
  {
   "cell_type": "code",
   "execution_count": 35,
   "metadata": {},
   "outputs": [
    {
     "data": {
      "text/plain": [
       "'import sys'"
      ]
     },
     "execution_count": 35,
     "metadata": {},
     "output_type": "execute_result"
    }
   ],
   "source": [
    "a = a.lstrip()\n",
    "a = a.rstrip()\n",
    "a"
   ]
  },
  {
   "cell_type": "code",
   "execution_count": 36,
   "metadata": {},
   "outputs": [
    {
     "data": {
      "text/plain": [
       "'s'"
      ]
     },
     "execution_count": 36,
     "metadata": {},
     "output_type": "execute_result"
    }
   ],
   "source": [
    "a[-1]"
   ]
  },
  {
   "cell_type": "code",
   "execution_count": 37,
   "metadata": {},
   "outputs": [],
   "source": [
    "b = b.split('as')"
   ]
  },
  {
   "cell_type": "code",
   "execution_count": 38,
   "metadata": {},
   "outputs": [
    {
     "data": {
      "text/plain": [
       "['import happy']"
      ]
     },
     "execution_count": 38,
     "metadata": {},
     "output_type": "execute_result"
    }
   ],
   "source": [
    "b"
   ]
  },
  {
   "cell_type": "code",
   "execution_count": 41,
   "metadata": {},
   "outputs": [
    {
     "data": {
      "text/plain": [
       "'happy'"
      ]
     },
     "execution_count": 41,
     "metadata": {},
     "output_type": "execute_result"
    }
   ],
   "source": [
    "b[0].split('import')[1].rstrip().lstrip()"
   ]
  },
  {
   "cell_type": "markdown",
   "metadata": {},
   "source": [
    "What we need is to make a function that will get only the info we want"
   ]
  },
  {
   "cell_type": "code",
   "execution_count": 72,
   "metadata": {},
   "outputs": [],
   "source": [
    "def get_module_name(line):\n",
    "    \"\"\"Function takes a line and returns the name of module\n",
    "    \n",
    "    Parameters:\n",
    "    line: str\n",
    "    \n",
    "    return: string\n",
    "    \"\"\"\n",
    "    \n",
    "    if(\"import\" in line and \"as\" not in line and \"from\" not in line):\n",
    "        return line.split()[1].lstrip().rstrip()\n",
    "    elif(\"import\" in line and \"as\" in line and \"from\" not in line):\n",
    "        return line.split()[1].lstrip().rstrip()\n",
    "    elif('from' in line and 'import'):\n",
    "        temp = line.split()\n",
    "        return str(temp[1].lstrip().rstrip()) + \".\" + str(temp[3].lstrip().rstrip())\n",
    "    else:\n",
    "        return \"You dummy\""
   ]
  },
  {
   "cell_type": "code",
   "execution_count": 73,
   "metadata": {},
   "outputs": [],
   "source": [
    "bb = \"import numpy #yep\"\n",
    "bc = \"import pandas\""
   ]
  },
  {
   "cell_type": "code",
   "execution_count": 74,
   "metadata": {},
   "outputs": [
    {
     "name": "stdout",
     "output_type": "stream",
     "text": [
      "numpy\n",
      "pandas\n"
     ]
    }
   ],
   "source": [
    "print(get_module_name(bb))\n",
    "print(get_module_name(bc))"
   ]
  },
  {
   "cell_type": "code",
   "execution_count": 75,
   "metadata": {},
   "outputs": [],
   "source": [
    "testingimports = [\"import numpy\", \"import numpy as np\", \"from numpy import linspace as ln\",\n",
    "                 \"import matplotlib.pyplot as plt\", \"from matplotlib import pyplot\",\n",
    "                 \"from matplotlib import pyplot as plt\", \"import pandas\", \"from pandas import dataframe\",\n",
    "                 \"from pandas import dataframe as df\", \"import pandas as pd\"]"
   ]
  },
  {
   "cell_type": "code",
   "execution_count": 76,
   "metadata": {},
   "outputs": [
    {
     "name": "stdout",
     "output_type": "stream",
     "text": [
      "numpy\n",
      "numpy\n",
      "numpy.linspace\n",
      "matplotlib.pyplot\n",
      "matplotlib.pyplot\n",
      "matplotlib.pyplot\n",
      "pandas\n",
      "pandas.dataframe\n",
      "pandas.dataframe\n",
      "pandas\n"
     ]
    }
   ],
   "source": [
    "for i in testingimports:\n",
    "    print(get_module_name(i))"
   ]
  },
  {
   "cell_type": "markdown",
   "metadata": {},
   "source": [
    "so far so good but in the future we will need to make sure that we also have a function that will split the periods and connect them in the right order to the graph"
   ]
  },
  {
   "cell_type": "code",
   "execution_count": null,
   "metadata": {},
   "outputs": [],
   "source": []
  }
 ],
 "metadata": {
  "kernelspec": {
   "display_name": "Python 3",
   "language": "python",
   "name": "python3"
  },
  "language_info": {
   "codemirror_mode": {
    "name": "ipython",
    "version": 3
   },
   "file_extension": ".py",
   "mimetype": "text/x-python",
   "name": "python",
   "nbconvert_exporter": "python",
   "pygments_lexer": "ipython3",
   "version": "3.6.9"
  },
  "toc": {
   "base_numbering": 1,
   "nav_menu": {},
   "number_sections": false,
   "sideBar": false,
   "skip_h1_title": false,
   "title_cell": "Table of Contents",
   "title_sidebar": "Contents",
   "toc_cell": false,
   "toc_position": {},
   "toc_section_display": false,
   "toc_window_display": false
  }
 },
 "nbformat": 4,
 "nbformat_minor": 2
}
