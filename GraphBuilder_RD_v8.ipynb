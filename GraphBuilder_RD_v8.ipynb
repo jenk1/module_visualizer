{
 "cells": [
  {
   "cell_type": "code",
   "execution_count": 1,
   "metadata": {},
   "outputs": [],
   "source": [
    "# Load the libraries\n",
    "import networkx as nx\n",
    "import matplotlib.pyplot as plt\n",
    "import matplotlib\n",
    "from pylab import rcParams\n",
    "import os\n",
    "\n",
    "%matplotlib inline"
   ]
  },
  {
   "cell_type": "code",
   "execution_count": 2,
   "metadata": {},
   "outputs": [],
   "source": [
    "rcParams['figure.figsize'] = 30, 20"
   ]
  },
  {
   "cell_type": "code",
   "execution_count": 10,
   "metadata": {},
   "outputs": [],
   "source": [
    "file = 'arbitrage.py'"
   ]
  },
  {
   "cell_type": "code",
   "execution_count": 11,
   "metadata": {},
   "outputs": [],
   "source": [
    "with open(file) as f:\n",
    "    content = f.readlines()"
   ]
  },
  {
   "cell_type": "code",
   "execution_count": 13,
   "metadata": {},
   "outputs": [
    {
     "data": {
      "text/plain": [
       "['\"\"\"\\n',\n",
       " 'Arbitrage library. Takes in orderbooks and gives back information about arbitrage\\n',\n",
       " 'opportunities present in them.\\n',\n",
       " '\\n',\n",
       " 'The current orderbook format is a dictionary of bid and ask exchange orders. This could\\n',\n",
       " 'be changed as part of a larger refactor to bring all our orderbook representations to a\\n',\n",
       " 'single standard.\\n',\n",
       " '\\n',\n",
       " 'IMPORTANT:\\n',\n",
       " \"  - the 'Order' used here is gryphon.lib.exchange.exchange_order, not the database\\n\",\n",
       " '    order model.\\n',\n",
       " '\"\"\"\\n',\n",
       " '\\n',\n",
       " 'from collections import defaultdict\\n',\n",
       " 'import itertools\\n',\n",
       " '\\n',\n",
       " 'from cdecimal import Decimal\\n',\n",
       " '\\n',\n",
       " 'from gryphon.lib.logger import get_logger\\n',\n",
       " 'from gryphon.lib.models.emeraldhavoc.orderbook import Orderbook\\n',\n",
       " 'from gryphon.lib.money import Money\\n',\n",
       " 'from gryphon.lib.metrics import midpoint\\n',\n",
       " '\\n',\n",
       " 'logger = get_logger(__name__)\\n',\n",
       " '\\n',\n",
       " '\\n',\n",
       " 'CURRENCY_MISMATCH_ERROR_MESSAGE = \"\"\"\\\\\\n',\n",
       " 'Orderbooks do not have the same volume currency. A: %s, B: %s\\\\\\n',\n",
       " '\"\"\"\\n',\n",
       " '\\n']"
      ]
     },
     "execution_count": 13,
     "metadata": {},
     "output_type": "execute_result"
    }
   ],
   "source": [
    "content[0:30]"
   ]
  },
  {
   "cell_type": "code",
   "execution_count": 14,
   "metadata": {},
   "outputs": [
    {
     "data": {
      "text/plain": [
       "['order model.',\n",
       " '\"\"\"',\n",
       " '',\n",
       " 'from collections import defaultdict',\n",
       " 'import itertools',\n",
       " '',\n",
       " 'from cdecimal import Decimal',\n",
       " '',\n",
       " 'from gryphon.lib.logger import get_logger',\n",
       " 'from gryphon.lib.models.emeraldhavoc.orderbook import Orderbook']"
      ]
     },
     "execution_count": 14,
     "metadata": {},
     "output_type": "execute_result"
    }
   ],
   "source": [
    "content = [i.lstrip().rstrip() for i in content]\n",
    "content[10:20]"
   ]
  },
  {
   "cell_type": "code",
   "execution_count": 22,
   "metadata": {},
   "outputs": [],
   "source": [
    "values_2 = []"
   ]
  },
  {
   "cell_type": "code",
   "execution_count": 27,
   "metadata": {},
   "outputs": [],
   "source": [
    "for i in content:\n",
    "    if(i[0:5] == 'import' or i[0:4] == 'from'):\n",
    "        values_2.append(i)"
   ]
  },
  {
   "cell_type": "code",
   "execution_count": 28,
   "metadata": {},
   "outputs": [
    {
     "data": {
      "text/plain": [
       "['import itertools',\n",
       " 'from collections import defaultdict',\n",
       " 'import itertools',\n",
       " 'from cdecimal import Decimal',\n",
       " 'from gryphon.lib.logger import get_logger',\n",
       " 'from gryphon.lib.models.emeraldhavoc.orderbook import Orderbook',\n",
       " 'from gryphon.lib.money import Money',\n",
       " 'from gryphon.lib.metrics import midpoint',\n",
       " 'from collections import defaultdict',\n",
       " 'from cdecimal import Decimal',\n",
       " 'from gryphon.lib.logger import get_logger',\n",
       " 'from gryphon.lib.models.emeraldhavoc.orderbook import Orderbook',\n",
       " 'from gryphon.lib.money import Money',\n",
       " 'from gryphon.lib.metrics import midpoint']"
      ]
     },
     "execution_count": 28,
     "metadata": {},
     "output_type": "execute_result"
    }
   ],
   "source": [
    "values_2"
   ]
  },
  {
   "cell_type": "code",
   "execution_count": null,
   "metadata": {},
   "outputs": [],
   "source": [
    "node_list = []"
   ]
  },
  {
   "cell_type": "code",
   "execution_count": 30,
   "metadata": {},
   "outputs": [
    {
     "name": "stdout",
     "output_type": "stream",
     "text": [
      "['import', 'itertools']\n",
      "EEEEE\n",
      "['from', 'collections', 'import', 'defaultdict']\n",
      "EEEEE\n",
      "['import', 'itertools']\n",
      "EEEEE\n",
      "['from', 'cdecimal', 'import', 'Decimal']\n",
      "EEEEE\n",
      "['from', 'gryphon.lib.logger', 'import', 'get_logger']\n",
      "EEEEE\n",
      "['from', 'gryphon.lib.models.emeraldhavoc.orderbook', 'import', 'Orderbook']\n",
      "EEEEE\n",
      "['from', 'gryphon.lib.money', 'import', 'Money']\n",
      "EEEEE\n",
      "['from', 'gryphon.lib.metrics', 'import', 'midpoint']\n",
      "EEEEE\n",
      "['from', 'collections', 'import', 'defaultdict']\n",
      "EEEEE\n",
      "['from', 'cdecimal', 'import', 'Decimal']\n",
      "EEEEE\n",
      "['from', 'gryphon.lib.logger', 'import', 'get_logger']\n",
      "EEEEE\n",
      "['from', 'gryphon.lib.models.emeraldhavoc.orderbook', 'import', 'Orderbook']\n",
      "EEEEE\n",
      "['from', 'gryphon.lib.money', 'import', 'Money']\n",
      "EEEEE\n",
      "['from', 'gryphon.lib.metrics', 'import', 'midpoint']\n",
      "EEEEE\n"
     ]
    }
   ],
   "source": [
    "for i in values_2:\n",
    "    temp = i.split()\n",
    "    if(len(temp) == 2 and temp[0] == 'import'):\n",
    "        node_list.append(temp[1])\n",
    "    elif(len(temp) == 4 and temp[0] == 'import' and temp[2] == 'as'):\n",
    "        node_list.append(temp[1])\n",
    "    elif(len(temp) == 4 and temp[0] == 'from'):\n",
    "        node_list.append(str(temp[1]) + '.' + str(temp[3]))\n",
    "    elif()\n",
    "    print(temp)\n",
    "    print(\"EEEEE\")"
   ]
  },
  {
   "cell_type": "code",
   "execution_count": null,
   "metadata": {},
   "outputs": [],
   "source": []
  },
  {
   "cell_type": "code",
   "execution_count": null,
   "metadata": {},
   "outputs": [],
   "source": []
  },
  {
   "cell_type": "code",
   "execution_count": null,
   "metadata": {},
   "outputs": [],
   "source": []
  },
  {
   "cell_type": "code",
   "execution_count": null,
   "metadata": {},
   "outputs": [],
   "source": []
  },
  {
   "cell_type": "code",
   "execution_count": null,
   "metadata": {},
   "outputs": [],
   "source": []
  },
  {
   "cell_type": "code",
   "execution_count": null,
   "metadata": {},
   "outputs": [],
   "source": []
  },
  {
   "cell_type": "code",
   "execution_count": null,
   "metadata": {},
   "outputs": [],
   "source": []
  },
  {
   "cell_type": "code",
   "execution_count": null,
   "metadata": {},
   "outputs": [],
   "source": []
  },
  {
   "cell_type": "code",
   "execution_count": null,
   "metadata": {},
   "outputs": [],
   "source": []
  },
  {
   "cell_type": "code",
   "execution_count": null,
   "metadata": {},
   "outputs": [],
   "source": []
  },
  {
   "cell_type": "code",
   "execution_count": null,
   "metadata": {},
   "outputs": [],
   "source": []
  },
  {
   "cell_type": "code",
   "execution_count": null,
   "metadata": {},
   "outputs": [],
   "source": []
  },
  {
   "cell_type": "code",
   "execution_count": null,
   "metadata": {},
   "outputs": [],
   "source": []
  },
  {
   "cell_type": "code",
   "execution_count": null,
   "metadata": {},
   "outputs": [],
   "source": []
  },
  {
   "cell_type": "code",
   "execution_count": null,
   "metadata": {},
   "outputs": [],
   "source": []
  },
  {
   "cell_type": "code",
   "execution_count": null,
   "metadata": {},
   "outputs": [],
   "source": []
  },
  {
   "cell_type": "code",
   "execution_count": null,
   "metadata": {},
   "outputs": [],
   "source": []
  },
  {
   "cell_type": "code",
   "execution_count": null,
   "metadata": {},
   "outputs": [],
   "source": []
  },
  {
   "cell_type": "code",
   "execution_count": null,
   "metadata": {},
   "outputs": [],
   "source": []
  },
  {
   "cell_type": "code",
   "execution_count": null,
   "metadata": {},
   "outputs": [],
   "source": []
  },
  {
   "cell_type": "code",
   "execution_count": null,
   "metadata": {},
   "outputs": [],
   "source": []
  },
  {
   "cell_type": "code",
   "execution_count": null,
   "metadata": {},
   "outputs": [],
   "source": []
  },
  {
   "cell_type": "code",
   "execution_count": null,
   "metadata": {},
   "outputs": [],
   "source": []
  },
  {
   "cell_type": "code",
   "execution_count": null,
   "metadata": {},
   "outputs": [],
   "source": []
  },
  {
   "cell_type": "code",
   "execution_count": null,
   "metadata": {},
   "outputs": [],
   "source": []
  },
  {
   "cell_type": "code",
   "execution_count": null,
   "metadata": {},
   "outputs": [],
   "source": []
  },
  {
   "cell_type": "code",
   "execution_count": null,
   "metadata": {},
   "outputs": [],
   "source": []
  },
  {
   "cell_type": "code",
   "execution_count": null,
   "metadata": {},
   "outputs": [],
   "source": []
  },
  {
   "cell_type": "code",
   "execution_count": null,
   "metadata": {},
   "outputs": [],
   "source": []
  },
  {
   "cell_type": "code",
   "execution_count": null,
   "metadata": {},
   "outputs": [],
   "source": []
  },
  {
   "cell_type": "code",
   "execution_count": null,
   "metadata": {},
   "outputs": [],
   "source": []
  },
  {
   "cell_type": "code",
   "execution_count": null,
   "metadata": {},
   "outputs": [],
   "source": []
  },
  {
   "cell_type": "code",
   "execution_count": 26,
   "metadata": {},
   "outputs": [],
   "source": [
    "with open(files[3]) as f:\n",
    "        content = f.readlines()"
   ]
  },
  {
   "cell_type": "code",
   "execution_count": 27,
   "metadata": {},
   "outputs": [
    {
     "data": {
      "text/plain": [
       "['import pyximport; pyximport.install()\\n',\n",
       " 'from cdecimal import Decimal\\n',\n",
       " 'import inspect\\n',\n",
       " 'import os\\n',\n",
       " 'import signal\\n',\n",
       " 'import sys\\n',\n",
       " 'import time\\n',\n",
       " '\\n',\n",
       " 'from delorean import Delorean\\n',\n",
       " 'import importlib\\n']"
      ]
     },
     "execution_count": 27,
     "metadata": {},
     "output_type": "execute_result"
    }
   ],
   "source": [
    "content[0:10]"
   ]
  },
  {
   "cell_type": "code",
   "execution_count": 28,
   "metadata": {},
   "outputs": [],
   "source": [
    "values = []"
   ]
  },
  {
   "cell_type": "code",
   "execution_count": 10,
   "metadata": {},
   "outputs": [
    {
     "ename": "NameError",
     "evalue": "name 'values' is not defined",
     "output_type": "error",
     "traceback": [
      "\u001b[0;31m---------------------------------------------------------------------------\u001b[0m",
      "\u001b[0;31mNameError\u001b[0m                                 Traceback (most recent call last)",
      "\u001b[0;32m<ipython-input-10-2e442eddf1d2>\u001b[0m in \u001b[0;36m<module>\u001b[0;34m\u001b[0m\n\u001b[1;32m      1\u001b[0m \u001b[0;32mfor\u001b[0m \u001b[0mi\u001b[0m \u001b[0;32min\u001b[0m \u001b[0mcontent\u001b[0m\u001b[0;34m:\u001b[0m\u001b[0;34m\u001b[0m\u001b[0;34m\u001b[0m\u001b[0m\n\u001b[1;32m      2\u001b[0m     \u001b[0mline\u001b[0m \u001b[0;34m=\u001b[0m \u001b[0mi\u001b[0m\u001b[0;34m.\u001b[0m\u001b[0mlstrip\u001b[0m\u001b[0;34m(\u001b[0m\u001b[0;34m)\u001b[0m\u001b[0;34m.\u001b[0m\u001b[0mrstrip\u001b[0m\u001b[0;34m(\u001b[0m\u001b[0;34m)\u001b[0m\u001b[0;34m\u001b[0m\u001b[0;34m\u001b[0m\u001b[0m\n\u001b[0;32m----> 3\u001b[0;31m     \u001b[0mvalues\u001b[0m\u001b[0;34m.\u001b[0m\u001b[0mappend\u001b[0m\u001b[0;34m(\u001b[0m\u001b[0mi\u001b[0m\u001b[0;34m)\u001b[0m\u001b[0;34m\u001b[0m\u001b[0;34m\u001b[0m\u001b[0m\n\u001b[0m",
      "\u001b[0;31mNameError\u001b[0m: name 'values' is not defined"
     ]
    }
   ],
   "source": [
    "for i in content:\n",
    "    line = i.lstrip().rstrip()\n",
    "    values.append(i)"
   ]
  },
  {
   "cell_type": "code",
   "execution_count": null,
   "metadata": {},
   "outputs": [],
   "source": []
  },
  {
   "cell_type": "code",
   "execution_count": null,
   "metadata": {},
   "outputs": [],
   "source": []
  },
  {
   "cell_type": "code",
   "execution_count": null,
   "metadata": {},
   "outputs": [],
   "source": []
  },
  {
   "cell_type": "code",
   "execution_count": null,
   "metadata": {},
   "outputs": [],
   "source": []
  },
  {
   "cell_type": "code",
   "execution_count": null,
   "metadata": {},
   "outputs": [],
   "source": []
  },
  {
   "cell_type": "code",
   "execution_count": null,
   "metadata": {},
   "outputs": [],
   "source": []
  },
  {
   "cell_type": "code",
   "execution_count": null,
   "metadata": {},
   "outputs": [],
   "source": []
  },
  {
   "cell_type": "code",
   "execution_count": null,
   "metadata": {},
   "outputs": [],
   "source": []
  },
  {
   "cell_type": "code",
   "execution_count": null,
   "metadata": {},
   "outputs": [],
   "source": []
  },
  {
   "cell_type": "code",
   "execution_count": null,
   "metadata": {},
   "outputs": [],
   "source": []
  },
  {
   "cell_type": "code",
   "execution_count": null,
   "metadata": {},
   "outputs": [],
   "source": []
  },
  {
   "cell_type": "code",
   "execution_count": null,
   "metadata": {},
   "outputs": [],
   "source": []
  },
  {
   "cell_type": "code",
   "execution_count": 29,
   "metadata": {},
   "outputs": [],
   "source": [
    "def get_module_name(line):\n",
    "    \"\"\"Function takes a line and returns the name of module\n",
    "    Parameters:\n",
    "    line: str\n",
    "    return: string\n",
    "    \"\"\"\n",
    "    if(\"import\" in line and \"as\" not in line and \"from\" not in line):\n",
    "        return line.split()[1].lstrip().rstrip()\n",
    "    elif(\"import\" in line and \"as\" in line and \"from\" not in line):\n",
    "        return line.split()[1].lstrip().rstrip()\n",
    "    elif('from' in line and 'import' and \"as\" not in line):\n",
    "        temp = line.split()\n",
    "        print(temp)\n",
    "        return str(temp[1].lstrip().rstrip()) + \".\" + str(temp[3].lstrip().rstrip())\n",
    "    else:\n",
    "        return \"You dummy\""
   ]
  },
  {
   "cell_type": "code",
   "execution_count": 30,
   "metadata": {},
   "outputs": [],
   "source": [
    "def stripping(content):\n",
    "    for line in content:\n",
    "        line = line.lstrip().rstrip()\n",
    "        if(\"from\" in line or \"import\" in line and '#' != line[0]):\n",
    "            line = line.replace('\\n', '')\n",
    "            if(',' in line and 'import' in line and 'from' not in line):\n",
    "                line = line.replace(',', ' ')\n",
    "                temp = line.split()\n",
    "                temp2 = temp[1:]\n",
    "                for i in temp2:\n",
    "                    i = i.lstrip().rstrip()\n",
    "                    if(i != ''):\n",
    "                        values.append(str(temp[0]) + \" \" + str(i))\n",
    "\n",
    "            elif(',' in line and 'import' in line and 'from' in line and '#' != line[0]):\n",
    "                temp = line.split(' import ')\n",
    "                temp2 = ''.join(temp[1:]).split(',')\n",
    "                for i in temp2:\n",
    "                    values.append(str(temp[0]) + \" import \" + str(i.lstrip().rstrip()))\n",
    "            else:\n",
    "                values.append(line)"
   ]
  },
  {
   "cell_type": "code",
   "execution_count": 31,
   "metadata": {},
   "outputs": [],
   "source": [
    "G = nx.Graph()"
   ]
  },
  {
   "cell_type": "code",
   "execution_count": 32,
   "metadata": {},
   "outputs": [
    {
     "name": "stdout",
     "output_type": "stream",
     "text": [
      "['from', '__future__', 'import', 'print_function']\n",
      "['from', 'operator', 'import', 'lt']\n",
      "['from', 'operator', 'import', 'gt']\n",
      "['from', 'operator', 'import', 'eq']\n",
      "['from', 'operator', 'import', 'le']\n",
      "['from', 'operator', 'import', 'ge']\n",
      "['from', 'os.path', 'import', '(']\n",
      "['from', 'distutils.version', 'import', 'StrictVersion']\n",
      "['from', 'setuptools', 'import', '(']\n",
      "['Source', 'trees', 'come', 'from', 'a', 'variety', 'of', 'places:']\n",
      "['\"tarball', 'from', 'tag\"', 'feature']\n",
      "['this', 'tool', 'is', 'format-agnostic)', 'can', 'come', 'from', 'a', 'variety', 'of', 'places:']\n",
      "['just', 'omit', 'the', 'field', 'from', 'your', '`setup.cfg`.']\n",
      "['`__version__`', '(by', 'calling', 'a', 'function', 'from', '`_version.py`)']\n",
      "['Once', 'established,', 'all', 'uses', 'of', 'your', 'tree', 'from', 'a', 'VCS', 'checkout', 'should', 'get', 'the']\n",
      "['importing', '`_version`', 'from', 'your', 'main', '`__init__.py`', 'file', 'and', 'running', 'the']\n",
      "['from', '._version', 'import', 'get_versions']\n",
      "['TAG[+DISTANCE.gHEX[.dirty]]', ',', 'using', 'information', 'from', '`git', 'describe', '--tags']\n",
      "['###', 'Upgrading', 'from', '0.11', 'to', '0.12']\n",
      "['###', 'Upgrading', 'from', '0.10', 'to', '0.11']\n",
      "['direction', 'and', 'include', 'code', 'from', 'all', 'supported', 'VCS', 'systems,', 'reducing', 'the']\n",
      "['from', '__future__', 'import', 'print_function']\n",
      "['#', 'we', 'require', 'that', 'all', 'commands', 'are', 'run', 'from', 'the', 'project', 'root,', 'i.e.', 'the']\n",
      "['\"Versioneer', 'requires', 'setup.py', 'to', 'be', 'executed', 'from', '\"']\n",
      "['print(\"Warning:', 'build', 'in', '%s', 'is', 'using', 'versioneer.py', 'from', '%s\"']\n",
      "['def', 'get_config_from_root(root):']\n"
     ]
    },
    {
     "ename": "IndexError",
     "evalue": "list index out of range",
     "output_type": "error",
     "traceback": [
      "\u001b[0;31m---------------------------------------------------------------------------\u001b[0m",
      "\u001b[0;31mIndexError\u001b[0m                                Traceback (most recent call last)",
      "\u001b[0;32m<ipython-input-32-9dff85b0b043>\u001b[0m in \u001b[0;36m<module>\u001b[0;34m\u001b[0m\n\u001b[1;32m     14\u001b[0m     \u001b[0mvalues_san\u001b[0m \u001b[0;34m=\u001b[0m \u001b[0;34m[\u001b[0m\u001b[0;34m]\u001b[0m\u001b[0;34m\u001b[0m\u001b[0;34m\u001b[0m\u001b[0m\n\u001b[1;32m     15\u001b[0m     \u001b[0;32mfor\u001b[0m \u001b[0mi\u001b[0m \u001b[0;32min\u001b[0m \u001b[0mvalues\u001b[0m\u001b[0;34m:\u001b[0m\u001b[0;34m\u001b[0m\u001b[0;34m\u001b[0m\u001b[0m\n\u001b[0;32m---> 16\u001b[0;31m         \u001b[0mvalues_san\u001b[0m\u001b[0;34m.\u001b[0m\u001b[0mappend\u001b[0m\u001b[0;34m(\u001b[0m\u001b[0mget_module_name\u001b[0m\u001b[0;34m(\u001b[0m\u001b[0mi\u001b[0m\u001b[0;34m)\u001b[0m\u001b[0;34m)\u001b[0m\u001b[0;34m\u001b[0m\u001b[0;34m\u001b[0m\u001b[0m\n\u001b[0m\u001b[1;32m     17\u001b[0m \u001b[0;34m\u001b[0m\u001b[0m\n\u001b[1;32m     18\u001b[0m     \u001b[0;31m# add the head node which is the filename\u001b[0m\u001b[0;34m\u001b[0m\u001b[0;34m\u001b[0m\u001b[0;34m\u001b[0m\u001b[0m\n",
      "\u001b[0;32m<ipython-input-29-70e5d54130ce>\u001b[0m in \u001b[0;36mget_module_name\u001b[0;34m(line)\u001b[0m\n\u001b[1;32m     12\u001b[0m         \u001b[0mtemp\u001b[0m \u001b[0;34m=\u001b[0m \u001b[0mline\u001b[0m\u001b[0;34m.\u001b[0m\u001b[0msplit\u001b[0m\u001b[0;34m(\u001b[0m\u001b[0;34m)\u001b[0m\u001b[0;34m\u001b[0m\u001b[0;34m\u001b[0m\u001b[0m\n\u001b[1;32m     13\u001b[0m         \u001b[0mprint\u001b[0m\u001b[0;34m(\u001b[0m\u001b[0mtemp\u001b[0m\u001b[0;34m)\u001b[0m\u001b[0;34m\u001b[0m\u001b[0;34m\u001b[0m\u001b[0m\n\u001b[0;32m---> 14\u001b[0;31m         \u001b[0;32mreturn\u001b[0m \u001b[0mstr\u001b[0m\u001b[0;34m(\u001b[0m\u001b[0mtemp\u001b[0m\u001b[0;34m[\u001b[0m\u001b[0;36m1\u001b[0m\u001b[0;34m]\u001b[0m\u001b[0;34m.\u001b[0m\u001b[0mlstrip\u001b[0m\u001b[0;34m(\u001b[0m\u001b[0;34m)\u001b[0m\u001b[0;34m.\u001b[0m\u001b[0mrstrip\u001b[0m\u001b[0;34m(\u001b[0m\u001b[0;34m)\u001b[0m\u001b[0;34m)\u001b[0m \u001b[0;34m+\u001b[0m \u001b[0;34m\".\"\u001b[0m \u001b[0;34m+\u001b[0m \u001b[0mstr\u001b[0m\u001b[0;34m(\u001b[0m\u001b[0mtemp\u001b[0m\u001b[0;34m[\u001b[0m\u001b[0;36m3\u001b[0m\u001b[0;34m]\u001b[0m\u001b[0;34m.\u001b[0m\u001b[0mlstrip\u001b[0m\u001b[0;34m(\u001b[0m\u001b[0;34m)\u001b[0m\u001b[0;34m.\u001b[0m\u001b[0mrstrip\u001b[0m\u001b[0;34m(\u001b[0m\u001b[0;34m)\u001b[0m\u001b[0;34m)\u001b[0m\u001b[0;34m\u001b[0m\u001b[0;34m\u001b[0m\u001b[0m\n\u001b[0m\u001b[1;32m     15\u001b[0m     \u001b[0;32melse\u001b[0m\u001b[0;34m:\u001b[0m\u001b[0;34m\u001b[0m\u001b[0;34m\u001b[0m\u001b[0m\n\u001b[1;32m     16\u001b[0m         \u001b[0;32mreturn\u001b[0m \u001b[0;34m\"You dummy\"\u001b[0m\u001b[0;34m\u001b[0m\u001b[0;34m\u001b[0m\u001b[0m\n",
      "\u001b[0;31mIndexError\u001b[0m: list index out of range"
     ]
    }
   ],
   "source": [
    "for filename in files:\n",
    "    with open(filename) as f:\n",
    "        content = f.readlines()\n",
    "    \n",
    "    values = []\n",
    "    \n",
    "    stripping(content)\n",
    "    \n",
    "#     for j in values:\n",
    "#         print(j)\n",
    "#         print(\"##\")\n",
    "#         print(\"$$\")\n",
    "\n",
    "    values_san = []\n",
    "    for i in values:\n",
    "        values_san.append(get_module_name(i))\n",
    "        \n",
    "    # add the head node which is the filename\n",
    "    G.add_node(filename)\n",
    "    \n",
    "    # Eventually make a  list where I could have all the \n",
    "    default_moduels = []\n",
    "    \n",
    "    for i in values_san:\n",
    "        if('.' not in i):\n",
    "            G.add_edge(filename, i)\n",
    "        else:\n",
    "            temp = i.split('.')\n",
    "            G.add_edge(filename, temp[0])\n",
    "            j = 0\n",
    "            while(j < len(temp)-1):\n",
    "                G.add_edge(temp[j], temp[j+1])\n",
    "                j += 1"
   ]
  },
  {
   "cell_type": "code",
   "execution_count": 10,
   "metadata": {},
   "outputs": [
    {
     "data": {
      "text/plain": [
       "NodeView(('catalyst-master/setup.py', '__future__', 'print_function', 'os', 're', 'sys', 'operator', 'lt', 'gt', 'eq', 'le', 'ge', 'path', '(', 'distutils', 'version', 'StrictVersion', 'setuptools', 'versioneer', 'Cython', 'Distutils', 'build_ext', ''))"
      ]
     },
     "execution_count": 10,
     "metadata": {},
     "output_type": "execute_result"
    }
   ],
   "source": [
    "G.nodes()"
   ]
  },
  {
   "cell_type": "code",
   "execution_count": 11,
   "metadata": {},
   "outputs": [
    {
     "data": {
      "text/plain": [
       "EdgeView([('catalyst-master/setup.py', '__future__'), ('catalyst-master/setup.py', 'os'), ('catalyst-master/setup.py', 're'), ('catalyst-master/setup.py', 'sys'), ('catalyst-master/setup.py', 'operator'), ('catalyst-master/setup.py', 'distutils'), ('catalyst-master/setup.py', 'setuptools'), ('catalyst-master/setup.py', 'versioneer'), ('catalyst-master/setup.py', 'Cython'), ('catalyst-master/setup.py', ''), ('__future__', 'print_function'), ('os', 'path'), ('operator', 'lt'), ('operator', 'gt'), ('operator', 'eq'), ('operator', 'le'), ('operator', 'ge'), ('path', '('), ('(', 'setuptools'), ('distutils', 'version'), ('version', 'StrictVersion'), ('Cython', 'Distutils'), ('Distutils', 'build_ext')])"
      ]
     },
     "execution_count": 11,
     "metadata": {},
     "output_type": "execute_result"
    }
   ],
   "source": [
    "G.edges()"
   ]
  },
  {
   "cell_type": "code",
   "execution_count": 12,
   "metadata": {},
   "outputs": [
    {
     "name": "stderr",
     "output_type": "stream",
     "text": [
      "/home/data/anaconda3/envs/DataSci/lib/python3.6/site-packages/networkx/drawing/nx_pylab.py:579: MatplotlibDeprecationWarning: \n",
      "The iterable function was deprecated in Matplotlib 3.1 and will be removed in 3.3. Use np.iterable instead.\n",
      "  if not cb.iterable(width):\n"
     ]
    },
    {
     "data": {
      "image/png": "[encoded data removed]",
      "text/plain": [
       "<Figure size 2160x1440 with 1 Axes>"
      ]
     },
     "metadata": {},
     "output_type": "display_data"
    }
   ],
   "source": [
    "nx.draw_networkx(G, with_labels=True, node_color='r', font_color='k');"
   ]
  },
  {
   "cell_type": "code",
   "execution_count": null,
   "metadata": {},
   "outputs": [],
   "source": []
  }
 ],
 "metadata": {
  "kernelspec": {
   "display_name": "Python 3",
   "language": "python",
   "name": "python3"
  },
  "language_info": {
   "codemirror_mode": {
    "name": "ipython",
    "version": 3
   },
   "file_extension": ".py",
   "mimetype": "text/x-python",
   "name": "python",
   "nbconvert_exporter": "python",
   "pygments_lexer": "ipython3",
   "version": "3.6.9"
  },
  "toc": {
   "base_numbering": 1,
   "nav_menu": {},
   "number_sections": false,
   "sideBar": false,
   "skip_h1_title": false,
   "title_cell": "Table of Contents",
   "title_sidebar": "Contents",
   "toc_cell": false,
   "toc_position": {},
   "toc_section_display": false,
   "toc_window_display": false
  }
 },
 "nbformat": 4,
 "nbformat_minor": 2
}
