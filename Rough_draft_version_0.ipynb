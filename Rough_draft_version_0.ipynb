{
 "cells": [
  {
   "cell_type": "markdown",
   "metadata": {},
   "source": [
    "What I want to do with this project is to be able to take some python source code and then visualize the libraries that are needed for each file. Eventually I would like to see if I can also look at how functions relate to one another but for the most part I think just the library part is the most import part"
   ]
  },
  {
   "cell_type": "code",
   "execution_count": 1,
   "metadata": {},
   "outputs": [],
   "source": [
    "# Define the filename that we will be using\n",
    "filename = 'testerfile.py'"
   ]
  },
  {
   "cell_type": "code",
   "execution_count": 2,
   "metadata": {},
   "outputs": [],
   "source": [
    "with open(filename) as f:\n",
    "    content = f.readlines()"
   ]
  },
  {
   "cell_type": "code",
   "execution_count": 3,
   "metadata": {},
   "outputs": [
    {
     "data": {
      "text/plain": [
       "['import sys\\n',\n",
       " 'from typing import List\\n',\n",
       " '\\n',\n",
       " 'from loguru import logger\\n',\n",
       " 'from typing_extensions import Literal\\n',\n",
       " '\\n',\n",
       " 'from tiktok_bot.api import TikTokAPI\\n',\n",
       " 'from tiktok_bot.models.category import Category, ListCategoriesRequest\\n',\n",
       " 'from tiktok_bot.models.feed import ListFeedRequest\\n',\n",
       " 'from tiktok_bot.models.feed_enums import FeedType, PullType\\n',\n",
       " 'from tiktok_bot.models.post import Post\\n',\n",
       " 'from tiktok_bot.models.search import ChallengeInfo\\n',\n",
       " 'from tiktok_bot.models.user import CommonUserDetails, UserProfile\\n',\n",
       " '\\n',\n",
       " '\\n',\n",
       " 'class TikTokBot:\\n',\n",
       " '    def __init__(self, log_level: Literal[\"INFO\", \"DEBUG\"] = \"INFO\"):\\n',\n",
       " '        self.api = TikTokAPI()\\n',\n",
       " '\\n',\n",
       " '        logger.remove()\\n',\n",
       " '        logger.add(sys.stderr, level=log_level)\\n',\n",
       " '\\n',\n",
       " '    def list_categories(self, count: int = 10, cursor: int = 0) -> List[Category]:\\n',\n",
       " '        request = ListCategoriesRequest(count=count, cursor=cursor)\\n',\n",
       " '        categories = self.api.list_categories(request)\\n',\n",
       " '\\n',\n",
       " '        return categories.category_list\\n',\n",
       " '\\n',\n",
       " '    def get_user_by_id(self, user_id: str) -> UserProfile:\\n',\n",
       " '        user_response = self.api.get_user(user_id=user_id)\\n',\n",
       " '\\n',\n",
       " '        return user_response.user\\n',\n",
       " '\\n',\n",
       " '    def search_users(self, keyword: str, count: int = 6) -> List[CommonUserDetails]:\\n',\n",
       " '        users_search = self.api.search_users(keyword=keyword, count=count)\\n',\n",
       " '\\n',\n",
       " '        users = [user.user_info for user in users_search]\\n',\n",
       " '\\n',\n",
       " '        return users\\n',\n",
       " '\\n',\n",
       " '    def search_hashtags(self, keyword: str, count: int = 6) -> List[ChallengeInfo]:\\n',\n",
       " '        hashtags_search = self.api.search_hashtags(keyword=keyword, count=count)\\n',\n",
       " '\\n',\n",
       " '        hashtags = [tag.challenge_info for tag in hashtags_search]\\n',\n",
       " '\\n',\n",
       " '        return hashtags\\n',\n",
       " '\\n',\n",
       " '    def search_posts_by_hashtag(self, hashtag_name: str, count: int = 6) -> List[Post]:\\n',\n",
       " '        tags = self.search_hashtags(keyword=hashtag_name, count=1)\\n',\n",
       " '\\n',\n",
       " '        if not tags:\\n',\n",
       " '            logger.info(f\\'Tag \"{hashtag_name}\" not found\\')\\n',\n",
       " '            return []\\n',\n",
       " '\\n',\n",
       " '        posts = self.api.search_posts_by_hashtag(hashtag=tags[0], count=count)\\n',\n",
       " '\\n',\n",
       " '        return posts\\n',\n",
       " '\\n',\n",
       " '    def list_for_you_feed(self, count: int = 6) -> List[Post]:\\n',\n",
       " '        feed = self.api.list_for_you_feed(count=count)\\n',\n",
       " '\\n',\n",
       " '        return feed\\n',\n",
       " '\\n',\n",
       " '    def list_following_feed(self, count: int = 6, cursor: int = 0) -> List[Post]:\\n',\n",
       " '        \"\"\"\\n',\n",
       " '        Lists posts in the Following feed.\\n',\n",
       " '        * Login required\\n',\n",
       " '        \"\"\"\\n',\n",
       " '        request = ListFeedRequest(\\n',\n",
       " '            count=count,\\n',\n",
       " '            max_cursor=cursor,\\n',\n",
       " '            pull_type=PullType.LoadMore,\\n',\n",
       " '            type=FeedType.Following,\\n',\n",
       " '            is_cold_start=1,\\n',\n",
       " '        )\\n',\n",
       " '        feed = self.api.list_following_feed(request)\\n',\n",
       " '\\n',\n",
       " '        return feed.aweme_list\\n']"
      ]
     },
     "execution_count": 3,
     "metadata": {},
     "output_type": "execute_result"
    }
   ],
   "source": [
    "content"
   ]
  },
  {
   "cell_type": "code",
   "execution_count": 4,
   "metadata": {},
   "outputs": [],
   "source": [
    "values = []"
   ]
  },
  {
   "cell_type": "code",
   "execution_count": 5,
   "metadata": {},
   "outputs": [],
   "source": [
    "for line in content:\n",
    "    if(\"from\" in line or \"import\" in line):\n",
    "        values.append(line)"
   ]
  },
  {
   "cell_type": "code",
   "execution_count": 6,
   "metadata": {},
   "outputs": [
    {
     "data": {
      "text/plain": [
       "['import sys\\n',\n",
       " 'from typing import List\\n',\n",
       " 'from loguru import logger\\n',\n",
       " 'from typing_extensions import Literal\\n',\n",
       " 'from tiktok_bot.api import TikTokAPI\\n',\n",
       " 'from tiktok_bot.models.category import Category, ListCategoriesRequest\\n',\n",
       " 'from tiktok_bot.models.feed import ListFeedRequest\\n',\n",
       " 'from tiktok_bot.models.feed_enums import FeedType, PullType\\n',\n",
       " 'from tiktok_bot.models.post import Post\\n',\n",
       " 'from tiktok_bot.models.search import ChallengeInfo\\n',\n",
       " 'from tiktok_bot.models.user import CommonUserDetails, UserProfile\\n']"
      ]
     },
     "execution_count": 6,
     "metadata": {},
     "output_type": "execute_result"
    }
   ],
   "source": [
    "values"
   ]
  },
  {
   "cell_type": "markdown",
   "metadata": {},
   "source": [
    "Here I would have to use an if, else if, else statement that would be able to separate the import, from and from with multiple import statements"
   ]
  },
  {
   "cell_type": "code",
   "execution_count": null,
   "metadata": {},
   "outputs": [],
   "source": []
  },
  {
   "cell_type": "code",
   "execution_count": null,
   "metadata": {},
   "outputs": [],
   "source": [
    "# Define a filename.\n",
    "filename = \"bestand.py\"\n",
    "\n",
    "# Open the file as f.\n",
    "# The function readlines() reads the file.\n",
    "with open(filename) as f:\n",
    "    content = f.readlines()\n",
    "\n",
    "# Show the file contents line by line.\n",
    "# We added the comma to print single newlines and not double newlines.\n",
    "# This is because the lines contain the newline character '\\n'.\n",
    "for line in content:\n",
    "    print(line),"
   ]
  }
 ],
 "metadata": {
  "kernelspec": {
   "display_name": "Python 3",
   "language": "python",
   "name": "python3"
  },
  "language_info": {
   "codemirror_mode": {
    "name": "ipython",
    "version": 3
   },
   "file_extension": ".py",
   "mimetype": "text/x-python",
   "name": "python",
   "nbconvert_exporter": "python",
   "pygments_lexer": "ipython3",
   "version": "3.7.3"
  },
  "toc": {
   "base_numbering": 1,
   "nav_menu": {},
   "number_sections": false,
   "sideBar": false,
   "skip_h1_title": false,
   "title_cell": "Table of Contents",
   "title_sidebar": "Contents",
   "toc_cell": false,
   "toc_position": {},
   "toc_section_display": false,
   "toc_window_display": false
  }
 },
 "nbformat": 4,
 "nbformat_minor": 2
}
