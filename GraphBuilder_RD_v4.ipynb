{
 "cells": [
  {
   "cell_type": "code",
   "execution_count": 1,
   "metadata": {},
   "outputs": [],
   "source": [
    "# Load the libraries\n",
    "import networkx as nx\n",
    "import matplotlib.pyplot as plt\n",
    "import matplotlib\n",
    "\n",
    "%matplotlib inline"
   ]
  },
  {
   "cell_type": "code",
   "execution_count": 2,
   "metadata": {},
   "outputs": [],
   "source": [
    "import numpy, pandas"
   ]
  },
  {
   "cell_type": "code",
   "execution_count": 57,
   "metadata": {},
   "outputs": [],
   "source": [
    "# Define the filename that we will be using\n",
    "filename = 'testerfile.py'"
   ]
  },
  {
   "cell_type": "code",
   "execution_count": 58,
   "metadata": {},
   "outputs": [],
   "source": [
    "with open(filename) as f:\n",
    "    content = f.readlines()"
   ]
  },
  {
   "cell_type": "code",
   "execution_count": 59,
   "metadata": {},
   "outputs": [],
   "source": [
    "values = []"
   ]
  },
  {
   "cell_type": "code",
   "execution_count": 60,
   "metadata": {},
   "outputs": [],
   "source": [
    "tes = \"import numpy, pandas\"\n",
    "tes = tes.replace(',', ' ')"
   ]
  },
  {
   "cell_type": "code",
   "execution_count": 61,
   "metadata": {},
   "outputs": [
    {
     "data": {
      "text/plain": [
       "['import', 'numpy', 'pandas']"
      ]
     },
     "execution_count": 61,
     "metadata": {},
     "output_type": "execute_result"
    }
   ],
   "source": [
    "tes.split()"
   ]
  },
  {
   "cell_type": "code",
   "execution_count": null,
   "metadata": {},
   "outputs": [],
   "source": []
  },
  {
   "cell_type": "code",
   "execution_count": 62,
   "metadata": {},
   "outputs": [],
   "source": [
    "for line in content:\n",
    "    if(\"from\" in line or \"import\" in line):\n",
    "        line = line.replace('\\n', '')\n",
    "        if(',' in line and 'import' in line and 'from' not in line):\n",
    "            line = line.replace(',', ' ')\n",
    "            temp = line.split(\" \")\n",
    "            temp2 = temp[1:]\n",
    "            for i in temp2:\n",
    "                i = i.lstrip().rstrip()\n",
    "                if(i != ''):\n",
    "                    values.append(str(temp[0]) + \" \" + str(i))\n",
    "                \n",
    "        elif(',' in line and 'import' in line and 'from' in line):\n",
    "            temp = line.split(' import ')\n",
    "            temp2 = ''.join(temp[1:]).split(',')\n",
    "            for i in temp2:\n",
    "                values.append(str(temp[0]) + \" import \" + str(i.lstrip().rstrip()))\n",
    "        else:\n",
    "            values.append(line)"
   ]
  },
  {
   "cell_type": "code",
   "execution_count": 63,
   "metadata": {},
   "outputs": [
    {
     "data": {
      "text/plain": [
       "['import sys',\n",
       " 'from typing import List',\n",
       " 'from numpy import linspace',\n",
       " 'from numpy import diagonal',\n",
       " 'from pandas import dataframe',\n",
       " 'from pandas import series',\n",
       " 'import tensorflow',\n",
       " 'import pytorch',\n",
       " 'import keras',\n",
       " 'from loguru import logger',\n",
       " 'from typing_extensions import Literal',\n",
       " 'from tiktok_bot.api import TikTokAPI',\n",
       " 'from tiktok_bot.models.category import Category',\n",
       " 'from tiktok_bot.models.category import ListCategoriesRequest',\n",
       " 'from tiktok_bot.models.feed import ListFeedRequest',\n",
       " 'from tiktok_bot.models.feed_enums import FeedType',\n",
       " 'from tiktok_bot.models.feed_enums import PullType',\n",
       " 'from tiktok_bot.models.post import Post',\n",
       " 'from tiktok_bot.models.search import ChallengeInfo',\n",
       " 'from tiktok_bot.models.user import CommonUserDetails',\n",
       " 'from tiktok_bot.models.user import UserProfile']"
      ]
     },
     "execution_count": 63,
     "metadata": {},
     "output_type": "execute_result"
    }
   ],
   "source": [
    "values"
   ]
  },
  {
   "cell_type": "code",
   "execution_count": 67,
   "metadata": {},
   "outputs": [],
   "source": [
    "def get_module_name(line):\n",
    "    \"\"\"Function takes a line and returns the name of module\n",
    "    Parameters:\n",
    "    line: str\n",
    "    return: string\n",
    "    \"\"\"\n",
    "    if(\"import\" in line and \"as\" not in line and \"from\" not in line):\n",
    "        return line.split()[1].lstrip().rstrip()\n",
    "    elif(\"import\" in line and \"as\" in line and \"from\" not in line):\n",
    "        return line.split()[1].lstrip().rstrip()\n",
    "    elif('from' in line and 'import'):\n",
    "        temp = line.split()\n",
    "        return str(temp[1].lstrip().rstrip()) + \".\" + str(temp[3].lstrip().rstrip())\n",
    "    else:\n",
    "        return \"You dummy\""
   ]
  },
  {
   "cell_type": "code",
   "execution_count": 68,
   "metadata": {},
   "outputs": [
    {
     "name": "stdout",
     "output_type": "stream",
     "text": [
      "sys\n",
      "typing.List\n",
      "numpy.linspace\n",
      "numpy.diagonal\n",
      "pandas.dataframe\n",
      "pandas.series\n",
      "tensorflow\n",
      "pytorch\n",
      "keras\n",
      "loguru.logger\n",
      "typing_extensions.Literal\n",
      "tiktok_bot.api.TikTokAPI\n",
      "tiktok_bot.models.category.Category\n",
      "tiktok_bot.models.category.ListCategoriesRequest\n",
      "tiktok_bot.models.feed.ListFeedRequest\n",
      "tiktok_bot.models.feed_enums.FeedType\n",
      "tiktok_bot.models.feed_enums.PullType\n",
      "tiktok_bot.models.post.Post\n",
      "tiktok_bot.models.search.ChallengeInfo\n",
      "tiktok_bot.models.user.CommonUserDetails\n",
      "tiktok_bot.models.user.UserProfile\n"
     ]
    }
   ],
   "source": [
    "for i in values:\n",
    "    print(get_module_name(i))"
   ]
  },
  {
   "cell_type": "code",
   "execution_count": 69,
   "metadata": {},
   "outputs": [
    {
     "data": {
      "text/plain": [
       "['import sys',\n",
       " 'from typing import List',\n",
       " 'from numpy import linspace',\n",
       " 'from numpy import diagonal',\n",
       " 'from pandas import dataframe',\n",
       " 'from pandas import series',\n",
       " 'import tensorflow',\n",
       " 'import pytorch',\n",
       " 'import keras',\n",
       " 'from loguru import logger',\n",
       " 'from typing_extensions import Literal',\n",
       " 'from tiktok_bot.api import TikTokAPI',\n",
       " 'from tiktok_bot.models.category import Category',\n",
       " 'from tiktok_bot.models.category import ListCategoriesRequest',\n",
       " 'from tiktok_bot.models.feed import ListFeedRequest',\n",
       " 'from tiktok_bot.models.feed_enums import FeedType',\n",
       " 'from tiktok_bot.models.feed_enums import PullType',\n",
       " 'from tiktok_bot.models.post import Post',\n",
       " 'from tiktok_bot.models.search import ChallengeInfo',\n",
       " 'from tiktok_bot.models.user import CommonUserDetails',\n",
       " 'from tiktok_bot.models.user import UserProfile']"
      ]
     },
     "execution_count": 69,
     "metadata": {},
     "output_type": "execute_result"
    }
   ],
   "source": [
    "values"
   ]
  },
  {
   "cell_type": "code",
   "execution_count": null,
   "metadata": {},
   "outputs": [],
   "source": []
  },
  {
   "cell_type": "code",
   "execution_count": null,
   "metadata": {},
   "outputs": [],
   "source": []
  },
  {
   "cell_type": "code",
   "execution_count": null,
   "metadata": {},
   "outputs": [],
   "source": []
  },
  {
   "cell_type": "code",
   "execution_count": null,
   "metadata": {},
   "outputs": [],
   "source": []
  },
  {
   "cell_type": "code",
   "execution_count": null,
   "metadata": {},
   "outputs": [],
   "source": []
  },
  {
   "cell_type": "code",
   "execution_count": null,
   "metadata": {},
   "outputs": [],
   "source": []
  },
  {
   "cell_type": "code",
   "execution_count": null,
   "metadata": {},
   "outputs": [],
   "source": []
  },
  {
   "cell_type": "code",
   "execution_count": 60,
   "metadata": {},
   "outputs": [],
   "source": [
    "class G_Builder():\n",
    "    \n",
    "    def __init__(self):\n",
    "        self.G = nx.Graph()\n",
    "        \n",
    "        \n",
    "    def get_module_name(self, line):\n",
    "        \"\"\"Function takes a line and returns the name of module\n",
    "        Parameters:\n",
    "        line: str\n",
    "        return: string\n",
    "        \"\"\"\n",
    "        if(\"import\" in line and \"as\" not in line and \"from\" not in line):\n",
    "            return line.split()[1].lstrip().rstrip()\n",
    "        elif(\"import\" in line and \"as\" in line and \"from\" not in line):\n",
    "            return line.split()[1].lstrip().rstrip()\n",
    "        elif('from' in line and 'import'):\n",
    "            temp = line.split()\n",
    "            return str(temp[1].lstrip().rstrip()) + \".\" + str(temp[3].lstrip().rstrip())\n",
    "        else:\n",
    "            return None\n",
    "    \n",
    "    def add_node(self, value):\n",
    "        self.G.add_node(value)\n",
    "        \n",
    "    def add_edge(self, pt1, pt2):\n",
    "        # Adds the edges via two parameters\n",
    "        # Note that the method below from networkx allows the \n",
    "        # nodes to be added to the graph if they are not already\n",
    "        # in the graph\n",
    "        self.G.add_edge(pt1, pt2)\n",
    "    \n",
    "    def add_edges_list(self, lst):\n",
    "        # Adds the edges with a list of tuples\n",
    "        self.G.add_edges_from(lst)\n",
    "    \n",
    "    def visualize_graph(self):\n",
    "        # We will make this look better in the future\n",
    "        return nx.draw_networkx(self.G, with_labels=True)"
   ]
  },
  {
   "cell_type": "code",
   "execution_count": null,
   "metadata": {},
   "outputs": [],
   "source": []
  },
  {
   "cell_type": "code",
   "execution_count": null,
   "metadata": {},
   "outputs": [],
   "source": []
  },
  {
   "cell_type": "code",
   "execution_count": null,
   "metadata": {},
   "outputs": [],
   "source": []
  }
 ],
 "metadata": {
  "kernelspec": {
   "display_name": "Python 3",
   "language": "python",
   "name": "python3"
  },
  "language_info": {
   "codemirror_mode": {
    "name": "ipython",
    "version": 3
   },
   "file_extension": ".py",
   "mimetype": "text/x-python",
   "name": "python",
   "nbconvert_exporter": "python",
   "pygments_lexer": "ipython3",
   "version": "3.6.9"
  },
  "toc": {
   "base_numbering": 1,
   "nav_menu": {},
   "number_sections": false,
   "sideBar": false,
   "skip_h1_title": false,
   "title_cell": "Table of Contents",
   "title_sidebar": "Contents",
   "toc_cell": false,
   "toc_position": {},
   "toc_section_display": false,
   "toc_window_display": false
  }
 },
 "nbformat": 4,
 "nbformat_minor": 2
}
