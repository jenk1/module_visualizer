{
 "cells": [
  {
   "cell_type": "code",
   "execution_count": 1,
   "metadata": {},
   "outputs": [],
   "source": [
    "# Load the libraries\n",
    "import networkx as nx\n",
    "import matplotlib.pyplot as plt\n",
    "import matplotlib\n",
    "import graph_tool.all as gt\n",
    "\n",
    "%matplotlib inline"
   ]
  },
  {
   "cell_type": "code",
   "execution_count": 2,
   "metadata": {},
   "outputs": [],
   "source": [
    "class G_Builder():\n",
    "    \n",
    "    def __init__(self):\n",
    "        self.G = nx.Graph()\n",
    "        \n",
    "        \n",
    "    def get_module_name(self, line):\n",
    "        \"\"\"Function takes a line and returns the name of module\n",
    "        Parameters:\n",
    "        line: str\n",
    "        return: string\n",
    "        \"\"\"\n",
    "        if(\"import\" in line and \"as\" not in line and \"from\" not in line):\n",
    "            return line.split()[1].lstrip().rstrip()\n",
    "        elif(\"import\" in line and \"as\" in line and \"from\" not in line):\n",
    "            return line.split()[1].lstrip().rstrip()\n",
    "        elif('from' in line and 'import'):\n",
    "            temp = line.split()\n",
    "            return str(temp[1].lstrip().rstrip()) + \".\" + str(temp[3].lstrip().rstrip())\n",
    "        else:\n",
    "            return None\n",
    "        \n",
    "    def add_filename(self, file):\n",
    "        self.file = file\n",
    "    \n",
    "    def add_node(self, value):\n",
    "        G.add_node(value)\n",
    "        \n",
    "    def add_edges(self, pt1, pt2):\n",
    "        # Adds the edges via two parameters\n",
    "        # Note that the method below from networkx allows the \n",
    "        # nodes to be added to the graph if they are not already\n",
    "        # in the graph\n",
    "        G.add_edge(pt1, pt2)\n",
    "    \n",
    "    def add_edges_list(self, lst):\n",
    "        # Adds the edges with a list of tuples\n",
    "        G.add_edges_from(lst)\n",
    "    \n",
    "    def visualize_graph(self):\n",
    "        # We will make this look better in the future\n",
    "        return nx.draw_networkx(G, with_labels=True)"
   ]
  },
  {
   "cell_type": "code",
   "execution_count": 3,
   "metadata": {},
   "outputs": [],
   "source": [
    "# Define the filename that we will be using\n",
    "filename = 'testerfile.py'"
   ]
  },
  {
   "cell_type": "code",
   "execution_count": 5,
   "metadata": {},
   "outputs": [],
   "source": [
    "# need to add a part where from numpy import linspace, diagonal"
   ]
  },
  {
   "cell_type": "code",
   "execution_count": 6,
   "metadata": {},
   "outputs": [],
   "source": [
    "testingimports = [\"import numpy\", \"import numpy as np\", \"from numpy import linspace as ln\",\n",
    "                 \"import matplotlib.pyplot as plt\", \"from matplotlib import pyplot\",\n",
    "                 \"from matplotlib import pyplot as plt\", \"import pandas\", \"from pandas import dataframe\",\n",
    "                 \"from pandas import dataframe as df\", \"import pandas as pd\"]"
   ]
  },
  {
   "cell_type": "code",
   "execution_count": 7,
   "metadata": {},
   "outputs": [
    {
     "name": "stdout",
     "output_type": "stream",
     "text": [
      "numpy\n",
      "numpy\n",
      "numpy.linspace\n",
      "matplotlib.pyplot\n",
      "matplotlib.pyplot\n",
      "matplotlib.pyplot\n",
      "pandas\n",
      "pandas.dataframe\n",
      "pandas.dataframe\n",
      "pandas\n"
     ]
    }
   ],
   "source": [
    "for i in testingimports:\n",
    "    print(get_module_name(i))"
   ]
  },
  {
   "cell_type": "code",
   "execution_count": null,
   "metadata": {},
   "outputs": [],
   "source": []
  },
  {
   "cell_type": "code",
   "execution_count": 3,
   "metadata": {},
   "outputs": [],
   "source": [
    "with open(filename) as f:\n",
    "    content = f.readlines()"
   ]
  },
  {
   "cell_type": "code",
   "execution_count": 9,
   "metadata": {},
   "outputs": [],
   "source": [
    "values = []"
   ]
  },
  {
   "cell_type": "code",
   "execution_count": 10,
   "metadata": {},
   "outputs": [],
   "source": [
    "for line in content:\n",
    "    if(\"from\" in line or \"import\" in line):\n",
    "        line = line.replace('\\n', '')\n",
    "        line = line.replace()\n",
    "        values.append(line)"
   ]
  },
  {
   "cell_type": "code",
   "execution_count": 11,
   "metadata": {},
   "outputs": [
    {
     "data": {
      "text/plain": [
       "['import sys',\n",
       " 'from typing import List',\n",
       " 'from loguru import logger',\n",
       " 'from typing_extensions import Literal',\n",
       " 'from tiktok_bot.api import TikTokAPI',\n",
       " 'from tiktok_bot.models.category import Category, ListCategoriesRequest',\n",
       " 'from tiktok_bot.models.feed import ListFeedRequest',\n",
       " 'from tiktok_bot.models.feed_enums import FeedType, PullType',\n",
       " 'from tiktok_bot.models.post import Post',\n",
       " 'from tiktok_bot.models.search import ChallengeInfo',\n",
       " 'from tiktok_bot.models.user import CommonUserDetails, UserProfile']"
      ]
     },
     "execution_count": 11,
     "metadata": {},
     "output_type": "execute_result"
    }
   ],
   "source": [
    "values"
   ]
  },
  {
   "cell_type": "markdown",
   "metadata": {},
   "source": [
    "<code>if(values == []):\n",
    "    G.add_node(filename)\n",
    "</code>"
   ]
  },
  {
   "cell_type": "code",
   "execution_count": 8,
   "metadata": {},
   "outputs": [],
   "source": [
    "g = gt.Graph()"
   ]
  },
  {
   "cell_type": "code",
   "execution_count": 9,
   "metadata": {},
   "outputs": [
    {
     "data": {
      "text/plain": [
       "<generator object Graph.add_vertex.<locals>.<genexpr> at 0x7f958bdcc150>"
      ]
     },
     "execution_count": 9,
     "metadata": {},
     "output_type": "execute_result"
    }
   ],
   "source": [
    "g.add_vertex()"
   ]
  },
  {
   "cell_type": "code",
   "execution_count": 10,
   "metadata": {},
   "outputs": [
    {
     "data": {
      "text/plain": [
       "<Graph object, directed, with 10 vertices and 0 edges, at 0x7f958bdbafd0>"
      ]
     },
     "execution_count": 10,
     "metadata": {},
     "output_type": "execute_result"
    }
   ],
   "source": [
    "g"
   ]
  },
  {
   "cell_type": "code",
   "execution_count": 11,
   "metadata": {},
   "outputs": [],
   "source": [
    "g = nx.Graph()"
   ]
  },
  {
   "cell_type": "code",
   "execution_count": 13,
   "metadata": {},
   "outputs": [],
   "source": [
    "g.add_node(\"Fart\")\n",
    "g.add_node(\"Face\")"
   ]
  },
  {
   "cell_type": "code",
   "execution_count": 15,
   "metadata": {},
   "outputs": [
    {
     "data": {
      "image/png": "[encoded data removed]",
      "text/plain": [
       "<Figure size 432x288 with 1 Axes>"
      ]
     },
     "metadata": {},
     "output_type": "display_data"
    }
   ],
   "source": [
    "nx.draw_networkx(g, with_labels=True)"
   ]
  },
  {
   "cell_type": "code",
   "execution_count": null,
   "metadata": {},
   "outputs": [],
   "source": []
  }
 ],
 "metadata": {
  "kernelspec": {
   "display_name": "Python 3",
   "language": "python",
   "name": "python3"
  },
  "language_info": {
   "codemirror_mode": {
    "name": "ipython",
    "version": 3
   },
   "file_extension": ".py",
   "mimetype": "text/x-python",
   "name": "python",
   "nbconvert_exporter": "python",
   "pygments_lexer": "ipython3",
   "version": "3.6.9"
  },
  "toc": {
   "base_numbering": 1,
   "nav_menu": {},
   "number_sections": false,
   "sideBar": false,
   "skip_h1_title": false,
   "title_cell": "Table of Contents",
   "title_sidebar": "Contents",
   "toc_cell": false,
   "toc_position": {},
   "toc_section_display": false,
   "toc_window_display": false
  }
 },
 "nbformat": 4,
 "nbformat_minor": 2
}
